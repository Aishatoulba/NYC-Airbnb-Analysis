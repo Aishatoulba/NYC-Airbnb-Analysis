{
 "cells": [
  {
   "cell_type": "markdown",
   "id": "6ce6472a",
   "metadata": {},
   "source": [
    "## 👀 Scenario <a class=\"anchor\" id=\"chapter1\">\n",
    "As a consultant working for a real estate start-up , I'm asked to look into the short-term rental market in New York , so I have gathered Airbnb listing data from several different sources. "
   ]
  },
  {
   "cell_type": "markdown",
   "id": "58770517",
   "metadata": {},
   "source": [
    "## ❓ About the project <a class=\"anchor\" id=\"chapter2\">\n",
    "The objective of this project is to combine the different datasets gathered from the three sources into one dataset and clean it in order to analyze the airbnb listings and to calculate the metrics we are interested in.\n",
    "The three files that are available contain data on 2019 Airbnb listings : \n",
    " * The first dataset contains data on the prices and neighborhoods of Airbnbs.\n",
    " <h3 id=\"airbnb_price.csv\"><code>Airbnb Prices</code></h3>\n",
    " \n",
    "<div align=\"center\">\n",
    "\n",
    "| Variable              | Description                                                                                   |\n",
    "|:----------------------|:----------------------------------------------------------------------------------------------|\n",
    "| listing_id             |  unique identifier of listing  |\n",
    "| price                | nightly listing price in USD.                 |\n",
    "| nbhood_full             |  name of borough and neighborhood where listing is located. |   \n",
    "  \n",
    " </div>\n",
    "    \n",
    " * The second dataset contains data on the listing descriptions and room types\n",
    " <h3 id=\"airbnb_room_type.csv\"><code>Airbnb Room Types</code></h3>\n",
    " \n",
    "<div align=\"left\">\n",
    "\n",
    "| Variable              | Description                                                                                   |\n",
    "|:----------------------|:----------------------------------------------------------------------------------------------|\n",
    "| listing_id             |  unique identifier of listing  |\n",
    "| description               | listing description               |\n",
    "| room_type             |  Airbnb has 3 types of rooms : shared rooms,private rooms and entire rooms.|   \n",
    "    \n",
    " </div>\n",
    "    \n",
    "    \n",
    "    \n",
    "     \n",
    " * The third dataset contains data on host names and review dates.\n",
    " <h3 id=\"airbnb_room_type.csv\"><code>Airbnb Reviews</code></h3>\n",
    " \n",
    "<div align=\"left\">\n",
    "\n",
    "| Variable              | Description                                                                                   |\n",
    "|:----------------------|:----------------------------------------------------------------------------------------------|\n",
    "| listing_id             |  unique identifier of listing  |\n",
    "| host_name            | name of listing host              |\n",
    "| last_review             |  date when the listing was last reviewed.|   \n",
    "    \n",
    " </div>"
   ]
  },
  {
   "cell_type": "code",
   "execution_count": 205,
   "id": "e1f92ac8",
   "metadata": {},
   "outputs": [
    {
     "name": "stderr",
     "output_type": "stream",
     "text": [
      "\n",
      "Attaching package: 'huxtable'\n",
      "\n",
      "\n",
      "The following object is masked from 'package:ggplot2':\n",
      "\n",
      "    theme_grey\n",
      "\n",
      "\n",
      "The following object is masked from 'package:dplyr':\n",
      "\n",
      "    add_rownames\n",
      "\n",
      "\n"
     ]
    }
   ],
   "source": [
    "# loading the libraries\n",
    "library(dplyr)\n",
    "library(tidyverse)\n",
    "library(ggplot2)\n",
    "library(readr)\n",
    "library(readxl)\n",
    "library(stringr)\n",
    "library(tidyr)\n",
    "library(data.table)\n",
    "library(lubridate)\n",
    "library(anytime)\n",
    "library(huxtable)"
   ]
  },
  {
   "cell_type": "code",
   "execution_count": 124,
   "id": "f3625e6f",
   "metadata": {},
   "outputs": [],
   "source": [
    "# loading prices dataset \n",
    "prices <- read.csv(\"airbnb_price.csv\")\n",
    "# laoding room types dataset \n",
    "room_types <- read_excel(\"airbnb_room_type.xlsx\",sheet=1)\n",
    "# loading reviews dataset\n",
    "reviews <- read.csv(\"reviews.csv\")"
   ]
  },
  {
   "cell_type": "code",
   "execution_count": 125,
   "id": "d663a5d4",
   "metadata": {},
   "outputs": [
    {
     "data": {
      "text/html": [
       "<table>\n",
       "<thead><tr><th scope=col>listing_id</th><th scope=col>price</th><th scope=col>nbhood_full</th></tr></thead>\n",
       "<tbody>\n",
       "\t<tr><td>2595              </td><td>225 dollars       </td><td>Manhattan, Midtown</td></tr>\n",
       "</tbody>\n",
       "</table>\n"
      ],
      "text/latex": [
       "\\begin{tabular}{r|lll}\n",
       " listing\\_id & price & nbhood\\_full\\\\\n",
       "\\hline\n",
       "\t 2595               & 225 dollars        & Manhattan, Midtown\\\\\n",
       "\\end{tabular}\n"
      ],
      "text/markdown": [
       "\n",
       "| listing_id | price | nbhood_full |\n",
       "|---|---|---|\n",
       "| 2595               | 225 dollars        | Manhattan, Midtown |\n",
       "\n"
      ],
      "text/plain": [
       "  listing_id price       nbhood_full       \n",
       "1 2595       225 dollars Manhattan, Midtown"
      ]
     },
     "metadata": {},
     "output_type": "display_data"
    },
    {
     "data": {
      "text/html": [
       "<table>\n",
       "<thead><tr><th scope=col>listing_id</th><th scope=col>description</th><th scope=col>room_type</th></tr></thead>\n",
       "<tbody>\n",
       "\t<tr><td>2595                 </td><td>Skylit Midtown Castle</td><td>Entire home/apt      </td></tr>\n",
       "</tbody>\n",
       "</table>\n"
      ],
      "text/latex": [
       "\\begin{tabular}{r|lll}\n",
       " listing\\_id & description & room\\_type\\\\\n",
       "\\hline\n",
       "\t 2595                  & Skylit Midtown Castle & Entire home/apt      \\\\\n",
       "\\end{tabular}\n"
      ],
      "text/markdown": [
       "\n",
       "| listing_id | description | room_type |\n",
       "|---|---|---|\n",
       "| 2595                  | Skylit Midtown Castle | Entire home/apt       |\n",
       "\n"
      ],
      "text/plain": [
       "  listing_id description           room_type      \n",
       "1 2595       Skylit Midtown Castle Entire home/apt"
      ]
     },
     "metadata": {},
     "output_type": "display_data"
    },
    {
     "data": {
      "text/html": [
       "<table>\n",
       "<thead><tr><th scope=col>X</th><th scope=col>listing_id</th><th scope=col>host_name</th><th scope=col>last_review</th></tr></thead>\n",
       "<tbody>\n",
       "\t<tr><td>1          </td><td>2595       </td><td>Jennifer   </td><td>May 21 2019</td></tr>\n",
       "</tbody>\n",
       "</table>\n"
      ],
      "text/latex": [
       "\\begin{tabular}{r|llll}\n",
       " X & listing\\_id & host\\_name & last\\_review\\\\\n",
       "\\hline\n",
       "\t 1           & 2595        & Jennifer    & May 21 2019\\\\\n",
       "\\end{tabular}\n"
      ],
      "text/markdown": [
       "\n",
       "| X | listing_id | host_name | last_review |\n",
       "|---|---|---|---|\n",
       "| 1           | 2595        | Jennifer    | May 21 2019 |\n",
       "\n"
      ],
      "text/plain": [
       "  X listing_id host_name last_review\n",
       "1 1 2595       Jennifer  May 21 2019"
      ]
     },
     "metadata": {},
     "output_type": "display_data"
    }
   ],
   "source": [
    "# viewing the datasets \n",
    "head(prices,1)\n",
    "head(room_types,1)\n",
    "head(reviews,1)"
   ]
  },
  {
   "cell_type": "code",
   "execution_count": 126,
   "id": "bf586f5f",
   "metadata": {},
   "outputs": [
    {
     "name": "stdout",
     "output_type": "stream",
     "text": [
      "'data.frame':\t25209 obs. of  3 variables:\n",
      " $ listing_id : int  2595 3831 5099 5178 5238 5295 5441 5803 6021 6848 ...\n",
      " $ price      : Factor w/ 536 levels \"0 dollars\",\"10 dollars\",..: 165 513 136 489 78 57 506 513 506 63 ...\n",
      " $ nbhood_full: Factor w/ 217 levels \"Bronx, Allerton\",..: 113 62 115 107 98 125 107 91 125 94 ...\n"
     ]
    }
   ],
   "source": [
    "str(prices)"
   ]
  },
  {
   "cell_type": "markdown",
   "id": "045324ce",
   "metadata": {},
   "source": [
    "## 1. Data Inspection and cleaning"
   ]
  },
  {
   "cell_type": "markdown",
   "id": "858ea306",
   "metadata": {},
   "source": [
    "#### 1.1  Cleaning the price column : so that we have the price and the currency in different columns.\n"
   ]
  },
  {
   "cell_type": "code",
   "execution_count": 127,
   "id": "3e6491fc",
   "metadata": {},
   "outputs": [
    {
     "data": {
      "text/html": [
       "<table>\n",
       "<thead><tr><th scope=col>listing_id</th><th scope=col>price</th><th scope=col>currency</th><th scope=col>nbhood_full</th></tr></thead>\n",
       "<tbody>\n",
       "\t<tr><td>2595              </td><td>225               </td><td>dollars           </td><td>Manhattan, Midtown</td></tr>\n",
       "</tbody>\n",
       "</table>\n"
      ],
      "text/latex": [
       "\\begin{tabular}{r|llll}\n",
       " listing\\_id & price & currency & nbhood\\_full\\\\\n",
       "\\hline\n",
       "\t 2595               & 225                & dollars            & Manhattan, Midtown\\\\\n",
       "\\end{tabular}\n"
      ],
      "text/markdown": [
       "\n",
       "| listing_id | price | currency | nbhood_full |\n",
       "|---|---|---|---|\n",
       "| 2595               | 225                | dollars            | Manhattan, Midtown |\n",
       "\n"
      ],
      "text/plain": [
       "  listing_id price currency nbhood_full       \n",
       "1 2595       225   dollars  Manhattan, Midtown"
      ]
     },
     "metadata": {},
     "output_type": "display_data"
    }
   ],
   "source": [
    "# cleaning the price column \n",
    "prices <- prices %>%\n",
    "separate(price,into=c(\"price\",\"currency\"),sep=\" \") %>% \n",
    "mutate(price = as.numeric(price))\n",
    "head(prices,1)\n",
    "setDT(prices)"
   ]
  },
  {
   "cell_type": "markdown",
   "id": "a0946cc9",
   "metadata": {},
   "source": [
    "#### 1.2   Filtering the free listings and removing them."
   ]
  },
  {
   "cell_type": "code",
   "execution_count": 128,
   "id": "4961d83f",
   "metadata": {},
   "outputs": [
    {
     "data": {
      "text/html": [
       "<table>\n",
       "<thead><tr><th scope=col>listing_id</th><th scope=col>price</th><th scope=col>currency</th><th scope=col>nbhood_full</th></tr></thead>\n",
       "<tbody>\n",
       "\t<tr><td>20333471                    </td><td>0                           </td><td>dollars                     </td><td>Bronx, East Morrisania      </td></tr>\n",
       "\t<tr><td>20523843                    </td><td>0                           </td><td>dollars                     </td><td>Brooklyn, Bushwick          </td></tr>\n",
       "\t<tr><td>20639628                    </td><td>0                           </td><td>dollars                     </td><td>Brooklyn, Bedford-Stuyvesant</td></tr>\n",
       "\t<tr><td>20639792                    </td><td>0                           </td><td>dollars                     </td><td>Brooklyn, Bedford-Stuyvesant</td></tr>\n",
       "\t<tr><td>20639914                    </td><td>0                           </td><td>dollars                     </td><td>Brooklyn, Bedford-Stuyvesant</td></tr>\n",
       "\t<tr><td>21291569                    </td><td>0                           </td><td>dollars                     </td><td>Brooklyn, Bushwick          </td></tr>\n",
       "\t<tr><td>21304320                    </td><td>0                           </td><td>dollars                     </td><td>Brooklyn, Bushwick          </td></tr>\n",
       "</tbody>\n",
       "</table>\n"
      ],
      "text/latex": [
       "\\begin{tabular}{r|llll}\n",
       " listing\\_id & price & currency & nbhood\\_full\\\\\n",
       "\\hline\n",
       "\t 20333471                     & 0                            & dollars                      & Bronx, East Morrisania      \\\\\n",
       "\t 20523843                     & 0                            & dollars                      & Brooklyn, Bushwick          \\\\\n",
       "\t 20639628                     & 0                            & dollars                      & Brooklyn, Bedford-Stuyvesant\\\\\n",
       "\t 20639792                     & 0                            & dollars                      & Brooklyn, Bedford-Stuyvesant\\\\\n",
       "\t 20639914                     & 0                            & dollars                      & Brooklyn, Bedford-Stuyvesant\\\\\n",
       "\t 21291569                     & 0                            & dollars                      & Brooklyn, Bushwick          \\\\\n",
       "\t 21304320                     & 0                            & dollars                      & Brooklyn, Bushwick          \\\\\n",
       "\\end{tabular}\n"
      ],
      "text/markdown": [
       "\n",
       "| listing_id | price | currency | nbhood_full |\n",
       "|---|---|---|---|\n",
       "| 20333471                     | 0                            | dollars                      | Bronx, East Morrisania       |\n",
       "| 20523843                     | 0                            | dollars                      | Brooklyn, Bushwick           |\n",
       "| 20639628                     | 0                            | dollars                      | Brooklyn, Bedford-Stuyvesant |\n",
       "| 20639792                     | 0                            | dollars                      | Brooklyn, Bedford-Stuyvesant |\n",
       "| 20639914                     | 0                            | dollars                      | Brooklyn, Bedford-Stuyvesant |\n",
       "| 21291569                     | 0                            | dollars                      | Brooklyn, Bushwick           |\n",
       "| 21304320                     | 0                            | dollars                      | Brooklyn, Bushwick           |\n",
       "\n"
      ],
      "text/plain": [
       "  listing_id price currency nbhood_full                 \n",
       "1 20333471   0     dollars  Bronx, East Morrisania      \n",
       "2 20523843   0     dollars  Brooklyn, Bushwick          \n",
       "3 20639628   0     dollars  Brooklyn, Bedford-Stuyvesant\n",
       "4 20639792   0     dollars  Brooklyn, Bedford-Stuyvesant\n",
       "5 20639914   0     dollars  Brooklyn, Bedford-Stuyvesant\n",
       "6 21291569   0     dollars  Brooklyn, Bushwick          \n",
       "7 21304320   0     dollars  Brooklyn, Bushwick          "
      ]
     },
     "metadata": {},
     "output_type": "display_data"
    }
   ],
   "source": [
    "# subsetting prices for free listings \n",
    "free_listings <- prices[price == 0,]\n",
    "free_listings"
   ]
  },
  {
   "cell_type": "code",
   "execution_count": 129,
   "id": "d145c60f",
   "metadata": {},
   "outputs": [],
   "source": [
    "# Removing all free listings from prices \n",
    "prices <- prices[price != 0 ,]"
   ]
  },
  {
   "cell_type": "markdown",
   "id": "fc91d168",
   "metadata": {},
   "source": [
    "## 2.Exploratory Data Analysis"
   ]
  },
  {
   "cell_type": "markdown",
   "id": "4612771c",
   "metadata": {},
   "source": [
    "#### 1. Calculating the average price"
   ]
  },
  {
   "cell_type": "code",
   "execution_count": 130,
   "id": "d2ea769c",
   "metadata": {},
   "outputs": [
    {
     "data": {
      "text/html": [
       "141.82"
      ],
      "text/latex": [
       "141.82"
      ],
      "text/markdown": [
       "141.82"
      ],
      "text/plain": [
       "[1] 141.82"
      ]
     },
     "metadata": {},
     "output_type": "display_data"
    },
    {
     "name": "stdout",
     "output_type": "stream",
     "text": [
      "[1] \"The average price per night for an Airbnb listing in NYC is $ 141.82\"\n"
     ]
    }
   ],
   "source": [
    "# calculating the average price \n",
    "avg.price = round(mean(prices$price),2)\n",
    "avg.price\n",
    "print(paste(\"The average price per night for an Airbnb listing in NYC is $\",avg.price))"
   ]
  },
  {
   "cell_type": "code",
   "execution_count": 131,
   "id": "a6955e8c",
   "metadata": {},
   "outputs": [],
   "source": [
    "setDT(room_types)"
   ]
  },
  {
   "cell_type": "code",
   "execution_count": 132,
   "id": "9a7b0377",
   "metadata": {},
   "outputs": [
    {
     "data": {
      "text/html": [
       "<ol class=list-inline>\n",
       "\t<li>'Entire home/apt'</li>\n",
       "\t<li>'private room'</li>\n",
       "\t<li>'Private room'</li>\n",
       "\t<li>'entire home/apt'</li>\n",
       "\t<li>'PRIVATE ROOM'</li>\n",
       "\t<li>'shared room'</li>\n",
       "\t<li>'ENTIRE HOME/APT'</li>\n",
       "\t<li>'Shared room'</li>\n",
       "\t<li>'SHARED ROOM'</li>\n",
       "</ol>\n"
      ],
      "text/latex": [
       "\\begin{enumerate*}\n",
       "\\item 'Entire home/apt'\n",
       "\\item 'private room'\n",
       "\\item 'Private room'\n",
       "\\item 'entire home/apt'\n",
       "\\item 'PRIVATE ROOM'\n",
       "\\item 'shared room'\n",
       "\\item 'ENTIRE HOME/APT'\n",
       "\\item 'Shared room'\n",
       "\\item 'SHARED ROOM'\n",
       "\\end{enumerate*}\n"
      ],
      "text/markdown": [
       "1. 'Entire home/apt'\n",
       "2. 'private room'\n",
       "3. 'Private room'\n",
       "4. 'entire home/apt'\n",
       "5. 'PRIVATE ROOM'\n",
       "6. 'shared room'\n",
       "7. 'ENTIRE HOME/APT'\n",
       "8. 'Shared room'\n",
       "9. 'SHARED ROOM'\n",
       "\n",
       "\n"
      ],
      "text/plain": [
       "[1] \"Entire home/apt\" \"private room\"    \"Private room\"    \"entire home/apt\"\n",
       "[5] \"PRIVATE ROOM\"    \"shared room\"     \"ENTIRE HOME/APT\" \"Shared room\"    \n",
       "[9] \"SHARED ROOM\"    "
      ]
     },
     "metadata": {},
     "output_type": "display_data"
    }
   ],
   "source": [
    "unique(room_types$room_type)"
   ]
  },
  {
   "cell_type": "code",
   "execution_count": 133,
   "id": "e10e0ea6",
   "metadata": {},
   "outputs": [],
   "source": [
    "# converting to lower case \n",
    "room_types[, room_type := tolower(room_type)]"
   ]
  },
  {
   "cell_type": "code",
   "execution_count": 134,
   "id": "34b63871",
   "metadata": {},
   "outputs": [],
   "source": [
    "# convert to factor \n",
    "room_types[,room_type := as.factor(room_type)]"
   ]
  },
  {
   "cell_type": "markdown",
   "id": "11e8c05f",
   "metadata": {},
   "source": [
    "#### 2. Calculating room frequencies."
   ]
  },
  {
   "cell_type": "code",
   "execution_count": 135,
   "id": "230aa3d0",
   "metadata": {},
   "outputs": [
    {
     "data": {
      "text/html": [
       "<table>\n",
       "<thead><tr><th scope=col>room_type</th><th scope=col>count</th></tr></thead>\n",
       "<tbody>\n",
       "\t<tr><td>entire home/apt</td><td>13266          </td></tr>\n",
       "\t<tr><td>private room   </td><td>11356          </td></tr>\n",
       "\t<tr><td>shared room    </td><td>  587          </td></tr>\n",
       "</tbody>\n",
       "</table>\n"
      ],
      "text/latex": [
       "\\begin{tabular}{r|ll}\n",
       " room\\_type & count\\\\\n",
       "\\hline\n",
       "\t entire home/apt & 13266          \\\\\n",
       "\t private room    & 11356          \\\\\n",
       "\t shared room     &   587          \\\\\n",
       "\\end{tabular}\n"
      ],
      "text/markdown": [
       "\n",
       "| room_type | count |\n",
       "|---|---|\n",
       "| entire home/apt | 13266           |\n",
       "| private room    | 11356           |\n",
       "| shared room     |   587           |\n",
       "\n"
      ],
      "text/plain": [
       "  room_type       count\n",
       "1 entire home/apt 13266\n",
       "2 private room    11356\n",
       "3 shared room       587"
      ]
     },
     "metadata": {},
     "output_type": "display_data"
    }
   ],
   "source": [
    "# creating  room frequencies \n",
    "room_frequencies <- room_types %>% \n",
    "group_by(room_type) %>%\n",
    "summarise(count=n())\n",
    "room_frequencies"
   ]
  },
  {
   "cell_type": "markdown",
   "id": "dff76c19",
   "metadata": {},
   "source": [
    "#### 3. plotting the room frequencies"
   ]
  },
  {
   "cell_type": "code",
   "execution_count": 136,
   "id": "87f534c5",
   "metadata": {},
   "outputs": [
    {
     "data": {
      "image/png": "[encoded data removed]",
      "text/plain": [
       "plot without title"
      ]
     },
     "metadata": {
      "image/png": {
       "height": 420,
       "width": 420
      }
     },
     "output_type": "display_data"
    }
   ],
   "source": [
    "# plotting the room frequencies \n",
    "room_frequencies %>% \n",
    "  ggplot(aes(x = room_type, \n",
    "             y = count %>% reorder(count))\n",
    "         ) +\n",
    "  geom_col(fill = \"skyblue\") +\n",
    "  labs(x = \"Frequency\",\n",
    "       y = \"Room Type\",\n",
    "       title = \"Room Type by Frequency in Bangkok, Thailand\") + \n",
    "coord_flip ()"
   ]
  },
  {
   "cell_type": "markdown",
   "id": "00305ba6",
   "metadata": {},
   "source": [
    "###### The room type with most listings is Entire home / apt."
   ]
  },
  {
   "cell_type": "markdown",
   "id": "a1469d30",
   "metadata": {},
   "source": [
    "#### 4. Earliest and most recent review date"
   ]
  },
  {
   "cell_type": "code",
   "execution_count": 137,
   "id": "e5400c87",
   "metadata": {},
   "outputs": [],
   "source": [
    "reviews <- reviews %>%\n",
    "mutate(last_review = anydate(last_review),X = NULL) "
   ]
  },
  {
   "cell_type": "code",
   "execution_count": 138,
   "id": "abf1aa10",
   "metadata": {},
   "outputs": [
    {
     "data": {
      "text/html": [
       "<table>\n",
       "<thead><tr><th scope=col>listing_id</th><th scope=col>host_name</th><th scope=col>last_review</th></tr></thead>\n",
       "<tbody>\n",
       "\t<tr><td>2595      </td><td>Jennifer  </td><td>2019-05-21</td></tr>\n",
       "</tbody>\n",
       "</table>\n"
      ],
      "text/latex": [
       "\\begin{tabular}{r|lll}\n",
       " listing\\_id & host\\_name & last\\_review\\\\\n",
       "\\hline\n",
       "\t 2595       & Jennifer   & 2019-05-21\\\\\n",
       "\\end{tabular}\n"
      ],
      "text/markdown": [
       "\n",
       "| listing_id | host_name | last_review |\n",
       "|---|---|---|\n",
       "| 2595       | Jennifer   | 2019-05-21 |\n",
       "\n"
      ],
      "text/plain": [
       "  listing_id host_name last_review\n",
       "1 2595       Jennifer  2019-05-21 "
      ]
     },
     "metadata": {},
     "output_type": "display_data"
    }
   ],
   "source": [
    "head(reviews,1)"
   ]
  },
  {
   "cell_type": "code",
   "execution_count": 139,
   "id": "71d9d790",
   "metadata": {},
   "outputs": [],
   "source": [
    "# create first reviewed , earliest review date \n",
    "first_reviewed = min(reviews$last_review)"
   ]
  },
  {
   "cell_type": "code",
   "execution_count": 140,
   "id": "840e7dd0",
   "metadata": {},
   "outputs": [],
   "source": [
    "# create last reviewed , the most recent review date \n",
    "last_reviewed = max(reviews$last_review)"
   ]
  },
  {
   "cell_type": "code",
   "execution_count": 141,
   "id": "6f68834a",
   "metadata": {},
   "outputs": [
    {
     "name": "stdout",
     "output_type": "stream",
     "text": [
      "[1] \"The latest Airbnb review is 2019-07-09 & The most recent Airbnb review is 2019-01-01\"\n"
     ]
    }
   ],
   "source": [
    "# printing earliest & most recent review date \n",
    "print(paste(\"The latest Airbnb review is\",last_reviewed,\"& The most recent Airbnb review is\",first_reviewed))"
   ]
  },
  {
   "cell_type": "markdown",
   "id": "b71284dd",
   "metadata": {},
   "source": [
    "#### 5. Joining and cleaning Data frames"
   ]
  },
  {
   "cell_type": "code",
   "execution_count": 142,
   "id": "54794cf3",
   "metadata": {},
   "outputs": [
    {
     "name": "stdout",
     "output_type": "stream",
     "text": [
      "Classes 'data.table' and 'data.frame':\t25202 obs. of  6 variables:\n",
      " $ listing_id : int  2595 3831 5099 5178 5238 5295 5441 5803 6021 6848 ...\n",
      " $ price      : num  225 89 200 79 150 135 85 89 85 140 ...\n",
      " $ currency   : chr  \"dollars\" \"dollars\" \"dollars\" \"dollars\" ...\n",
      " $ nbhood_full: Factor w/ 217 levels \"Bronx, Allerton\",..: 113 62 115 107 98 125 107 91 125 94 ...\n",
      " $ description: chr  \"Skylit Midtown Castle\" \"Cozy Entire Floor of Brownstone\" \"Large Cozy 1 BR Apartment In Midtown East\" \"Large Furnished Room Near B'way\" ...\n",
      " $ room_type  : Factor w/ 3 levels \"entire home/apt\",..: 1 1 1 2 1 1 2 2 2 1 ...\n",
      " - attr(*, \".internal.selfref\")=<externalptr> \n",
      " - attr(*, \"sorted\")= chr \"listing_id\"\n"
     ]
    }
   ],
   "source": [
    "# joining prices and room_types \n",
    "rooms_and_prices <- merge(prices,room_types,by=\"listing_id\")\n",
    "str(rooms_and_prices)"
   ]
  },
  {
   "cell_type": "code",
   "execution_count": 143,
   "id": "16bafc02",
   "metadata": {},
   "outputs": [
    {
     "name": "stdout",
     "output_type": "stream",
     "text": [
      "Classes 'data.table' and 'data.frame':\t25202 obs. of  8 variables:\n",
      " $ listing_id : int  2595 3831 5099 5178 5238 5295 5441 5803 6021 6848 ...\n",
      " $ price      : num  225 89 200 79 150 135 85 89 85 140 ...\n",
      " $ currency   : chr  \"dollars\" \"dollars\" \"dollars\" \"dollars\" ...\n",
      " $ nbhood_full: Factor w/ 217 levels \"Bronx, Allerton\",..: 113 62 115 107 98 125 107 91 125 94 ...\n",
      " $ description: chr  \"Skylit Midtown Castle\" \"Cozy Entire Floor of Brownstone\" \"Large Cozy 1 BR Apartment In Midtown East\" \"Large Furnished Room Near B'way\" ...\n",
      " $ room_type  : Factor w/ 3 levels \"entire home/apt\",..: 1 1 1 2 1 1 2 2 2 1 ...\n",
      " $ host_name  : Factor w/ 7361 levels \"'Cil\",\"-TheQueensCornerLot\",..: 3117 4045 1264 6272 795 3917 3530 3870 1333 282 ...\n",
      " $ last_review: Date, format: \"2019-05-21\" \"2019-07-05\" ...\n",
      " - attr(*, \".internal.selfref\")=<externalptr> \n",
      " - attr(*, \"sorted\")= chr \"listing_id\"\n"
     ]
    }
   ],
   "source": [
    "# another merge \n",
    "airbnb_merged <- merge(rooms_and_prices,reviews,by=\"listing_id\")\n",
    "str(airbnb_merged)"
   ]
  },
  {
   "cell_type": "code",
   "execution_count": 144,
   "id": "ca0d4e62",
   "metadata": {},
   "outputs": [
    {
     "name": "stdout",
     "output_type": "stream",
     "text": [
      "Classes 'data.table' and 'data.frame':\t25184 obs. of  8 variables:\n",
      " $ listing_id : int  2595 3831 5099 5178 5238 5295 5441 5803 6021 6848 ...\n",
      " $ price      : num  225 89 200 79 150 135 85 89 85 140 ...\n",
      " $ currency   : chr  \"dollars\" \"dollars\" \"dollars\" \"dollars\" ...\n",
      " $ nbhood_full: Factor w/ 217 levels \"Bronx, Allerton\",..: 113 62 115 107 98 125 107 91 125 94 ...\n",
      " $ description: chr  \"Skylit Midtown Castle\" \"Cozy Entire Floor of Brownstone\" \"Large Cozy 1 BR Apartment In Midtown East\" \"Large Furnished Room Near B'way\" ...\n",
      " $ room_type  : Factor w/ 3 levels \"entire home/apt\",..: 1 1 1 2 1 1 2 2 2 1 ...\n",
      " $ host_name  : Factor w/ 7361 levels \"'Cil\",\"-TheQueensCornerLot\",..: 3117 4045 1264 6272 795 3917 3530 3870 1333 282 ...\n",
      " $ last_review: Date, format: \"2019-05-21\" \"2019-07-05\" ...\n",
      " - attr(*, \".internal.selfref\")=<externalptr> \n",
      " - attr(*, \"sorted\")= chr \"listing_id\"\n"
     ]
    }
   ],
   "source": [
    "# dropping missing values \n",
    "airbnb_merged_clean <- na.omit(airbnb_merged)\n",
    "str(airbnb_merged_clean)"
   ]
  },
  {
   "cell_type": "code",
   "execution_count": 145,
   "id": "8f677012",
   "metadata": {},
   "outputs": [
    {
     "data": {
      "text/html": [
       "0"
      ],
      "text/latex": [
       "0"
      ],
      "text/markdown": [
       "0"
      ],
      "text/plain": [
       "[1] 0"
      ]
     },
     "metadata": {},
     "output_type": "display_data"
    },
    {
     "data": {
      "text/html": [
       "0"
      ],
      "text/latex": [
       "0"
      ],
      "text/markdown": [
       "0"
      ],
      "text/plain": [
       "[1] 0"
      ]
     },
     "metadata": {},
     "output_type": "display_data"
    }
   ],
   "source": [
    "# sum of duplicated values \n",
    "sum(duplicated(airbnb_merged_clean))\n",
    "nrow(airbnb_merged_clean[duplicated(airbnb_merged_clean), ])"
   ]
  },
  {
   "cell_type": "markdown",
   "id": "6b7fbf44",
   "metadata": {},
   "source": [
    "#### 6. Analyzing listing prices by Borough"
   ]
  },
  {
   "cell_type": "code",
   "execution_count": 146,
   "id": "09fb4db3",
   "metadata": {},
   "outputs": [
    {
     "data": {
      "text/html": [
       "<ol class=list-inline>\n",
       "\t<li>Manhattan, Midtown</li>\n",
       "\t<li>Brooklyn, Clinton Hill</li>\n",
       "\t<li>Manhattan, Murray Hill</li>\n",
       "\t<li>Manhattan, Hell's Kitchen</li>\n",
       "\t<li>Manhattan, Chinatown</li>\n",
       "</ol>\n",
       "\n",
       "<details>\n",
       "\t<summary style=display:list-item;cursor:pointer>\n",
       "\t\t<strong>Levels</strong>:\n",
       "\t</summary>\n",
       "\t<ol class=list-inline>\n",
       "\t\t<li>'Bronx, Allerton'</li>\n",
       "\t\t<li>'Bronx, Baychester'</li>\n",
       "\t\t<li>'Bronx, Belmont'</li>\n",
       "\t\t<li>'Bronx, Bronxdale'</li>\n",
       "\t\t<li>'Bronx, Castle Hill'</li>\n",
       "\t\t<li>'Bronx, City Island'</li>\n",
       "\t\t<li>'Bronx, Claremont Village'</li>\n",
       "\t\t<li>'Bronx, Clason Point'</li>\n",
       "\t\t<li>'Bronx, Co-op City'</li>\n",
       "\t\t<li>'Bronx, Concourse'</li>\n",
       "\t\t<li>'Bronx, Concourse Village'</li>\n",
       "\t\t<li>'Bronx, East Morrisania'</li>\n",
       "\t\t<li>'Bronx, Eastchester'</li>\n",
       "\t\t<li>'Bronx, Edenwald'</li>\n",
       "\t\t<li>'Bronx, Fieldston'</li>\n",
       "\t\t<li>'Bronx, Fordham'</li>\n",
       "\t\t<li>'Bronx, Highbridge'</li>\n",
       "\t\t<li>'Bronx, Hunts Point'</li>\n",
       "\t\t<li>'Bronx, Kingsbridge'</li>\n",
       "\t\t<li>'Bronx, Longwood'</li>\n",
       "\t\t<li>'Bronx, Melrose'</li>\n",
       "\t\t<li>'Bronx, Morris Heights'</li>\n",
       "\t\t<li>'Bronx, Morris Park'</li>\n",
       "\t\t<li>'Bronx, Morrisania'</li>\n",
       "\t\t<li>'Bronx, Mott Haven'</li>\n",
       "\t\t<li>'Bronx, Mount Eden'</li>\n",
       "\t\t<li>'Bronx, Mount Hope'</li>\n",
       "\t\t<li>'Bronx, North Riverdale'</li>\n",
       "\t\t<li>'Bronx, Norwood'</li>\n",
       "\t\t<li>'Bronx, Olinville'</li>\n",
       "\t\t<li>'Bronx, Parkchester'</li>\n",
       "\t\t<li>'Bronx, Pelham Bay'</li>\n",
       "\t\t<li>'Bronx, Pelham Gardens'</li>\n",
       "\t\t<li>'Bronx, Port Morris'</li>\n",
       "\t\t<li>'Bronx, Riverdale'</li>\n",
       "\t\t<li>'Bronx, Schuylerville'</li>\n",
       "\t\t<li>'Bronx, Soundview'</li>\n",
       "\t\t<li>'Bronx, Spuyten Duyvil'</li>\n",
       "\t\t<li>'Bronx, Throgs Neck'</li>\n",
       "\t\t<li>'Bronx, Tremont'</li>\n",
       "\t\t<li>'Bronx, Unionport'</li>\n",
       "\t\t<li>'Bronx, University Heights'</li>\n",
       "\t\t<li>'Bronx, Van Nest'</li>\n",
       "\t\t<li>'Bronx, Wakefield'</li>\n",
       "\t\t<li>'Bronx, West Farms'</li>\n",
       "\t\t<li>'Bronx, Westchester Square'</li>\n",
       "\t\t<li>'Bronx, Williamsbridge'</li>\n",
       "\t\t<li>'Bronx, Woodlawn'</li>\n",
       "\t\t<li>'Brooklyn, Bath Beach'</li>\n",
       "\t\t<li>'Brooklyn, Bay Ridge'</li>\n",
       "\t\t<li>'Brooklyn, Bedford-Stuyvesant'</li>\n",
       "\t\t<li>'Brooklyn, Bensonhurst'</li>\n",
       "\t\t<li>'Brooklyn, Bergen Beach'</li>\n",
       "\t\t<li>'Brooklyn, Boerum Hill'</li>\n",
       "\t\t<li>'Brooklyn, Borough Park'</li>\n",
       "\t\t<li>'Brooklyn, Brighton Beach'</li>\n",
       "\t\t<li>'Brooklyn, Brooklyn Heights'</li>\n",
       "\t\t<li>'Brooklyn, Brownsville'</li>\n",
       "\t\t<li>'Brooklyn, Bushwick'</li>\n",
       "\t\t<li>'Brooklyn, Canarsie'</li>\n",
       "\t\t<li>'Brooklyn, Carroll Gardens'</li>\n",
       "\t\t<li>'Brooklyn, Clinton Hill'</li>\n",
       "\t\t<li>'Brooklyn, Cobble Hill'</li>\n",
       "\t\t<li>'Brooklyn, Columbia St'</li>\n",
       "\t\t<li>'Brooklyn, Coney Island'</li>\n",
       "\t\t<li>'Brooklyn, Crown Heights'</li>\n",
       "\t\t<li>'Brooklyn, Cypress Hills'</li>\n",
       "\t\t<li>'Brooklyn, Downtown Brooklyn'</li>\n",
       "\t\t<li>'Brooklyn, DUMBO'</li>\n",
       "\t\t<li>'Brooklyn, Dyker Heights'</li>\n",
       "\t\t<li>'Brooklyn, East Flatbush'</li>\n",
       "\t\t<li>'Brooklyn, East New York'</li>\n",
       "\t\t<li>'Brooklyn, Flatbush'</li>\n",
       "\t\t<li>'Brooklyn, Flatlands'</li>\n",
       "\t\t<li>'Brooklyn, Fort Greene'</li>\n",
       "\t\t<li>'Brooklyn, Fort Hamilton'</li>\n",
       "\t\t<li>'Brooklyn, Gowanus'</li>\n",
       "\t\t<li>'Brooklyn, Gravesend'</li>\n",
       "\t\t<li>'Brooklyn, Greenpoint'</li>\n",
       "\t\t<li>'Brooklyn, Kensington'</li>\n",
       "\t\t<li>'Brooklyn, Manhattan Beach'</li>\n",
       "\t\t<li>'Brooklyn, Midwood'</li>\n",
       "\t\t<li>'Brooklyn, Mill Basin'</li>\n",
       "\t\t<li>'Brooklyn, Navy Yard'</li>\n",
       "\t\t<li>'Brooklyn, Park Slope'</li>\n",
       "\t\t<li>'Brooklyn, Prospect-Lefferts Gardens'</li>\n",
       "\t\t<li>'Brooklyn, Prospect Heights'</li>\n",
       "\t\t<li>'Brooklyn, Red Hook'</li>\n",
       "\t\t<li>'Brooklyn, Sea Gate'</li>\n",
       "\t\t<li>'Brooklyn, Sheepshead Bay'</li>\n",
       "\t\t<li>'Brooklyn, South Slope'</li>\n",
       "\t\t<li>'Brooklyn, Sunset Park'</li>\n",
       "\t\t<li>'Brooklyn, Vinegar Hill'</li>\n",
       "\t\t<li>'Brooklyn, Williamsburg'</li>\n",
       "\t\t<li>'Brooklyn, Windsor Terrace'</li>\n",
       "\t\t<li>'Manhattan, Battery Park City'</li>\n",
       "\t\t<li>'Manhattan, Chelsea'</li>\n",
       "\t\t<li>'Manhattan, Chinatown'</li>\n",
       "\t\t<li>'Manhattan, Civic Center'</li>\n",
       "\t\t<li>'Manhattan, East Harlem'</li>\n",
       "\t\t<li>'Manhattan, East Village'</li>\n",
       "\t\t<li>'Manhattan, Financial District'</li>\n",
       "\t\t<li>'Manhattan, Flatiron District'</li>\n",
       "\t\t<li>'Manhattan, Gramercy'</li>\n",
       "\t\t<li>'Manhattan, Greenwich Village'</li>\n",
       "\t\t<li>'Manhattan, Harlem'</li>\n",
       "\t\t<li>'Manhattan, Hell\\'s Kitchen'</li>\n",
       "\t\t<li>'Manhattan, Inwood'</li>\n",
       "\t\t<li>'Manhattan, Kips Bay'</li>\n",
       "\t\t<li>'Manhattan, Little Italy'</li>\n",
       "\t\t<li>'Manhattan, Lower East Side'</li>\n",
       "\t\t<li>'Manhattan, Marble Hill'</li>\n",
       "\t\t<li>'Manhattan, Midtown'</li>\n",
       "\t\t<li>'Manhattan, Morningside Heights'</li>\n",
       "\t\t<li>'Manhattan, Murray Hill'</li>\n",
       "\t\t<li>'Manhattan, NoHo'</li>\n",
       "\t\t<li>'Manhattan, Nolita'</li>\n",
       "\t\t<li>'Manhattan, Roosevelt Island'</li>\n",
       "\t\t<li>'Manhattan, SoHo'</li>\n",
       "\t\t<li>'Manhattan, Stuyvesant Town'</li>\n",
       "\t\t<li>'Manhattan, Theater District'</li>\n",
       "\t\t<li>'Manhattan, Tribeca'</li>\n",
       "\t\t<li>'Manhattan, Two Bridges'</li>\n",
       "\t\t<li>'Manhattan, Upper East Side'</li>\n",
       "\t\t<li>'Manhattan, Upper West Side'</li>\n",
       "\t\t<li>'Manhattan, Washington Heights'</li>\n",
       "\t\t<li>'Manhattan, West Village'</li>\n",
       "\t\t<li>'Queens, Arverne'</li>\n",
       "\t\t<li>'Queens, Astoria'</li>\n",
       "\t\t<li>'Queens, Bay Terrace'</li>\n",
       "\t\t<li>'Queens, Bayside'</li>\n",
       "\t\t<li>'Queens, Bayswater'</li>\n",
       "\t\t<li>'Queens, Belle Harbor'</li>\n",
       "\t\t<li>'Queens, Bellerose'</li>\n",
       "\t\t<li>'Queens, Breezy Point'</li>\n",
       "\t\t<li>'Queens, Briarwood'</li>\n",
       "\t\t<li>'Queens, Cambria Heights'</li>\n",
       "\t\t<li>'Queens, College Point'</li>\n",
       "\t\t<li>'Queens, Corona'</li>\n",
       "\t\t<li>'Queens, Ditmars Steinway'</li>\n",
       "\t\t<li>'Queens, Douglaston'</li>\n",
       "\t\t<li>'Queens, East Elmhurst'</li>\n",
       "\t\t<li>'Queens, Edgemere'</li>\n",
       "\t\t<li>'Queens, Elmhurst'</li>\n",
       "\t\t<li>'Queens, Far Rockaway'</li>\n",
       "\t\t<li>'Queens, Flushing'</li>\n",
       "\t\t<li>'Queens, Forest Hills'</li>\n",
       "\t\t<li>'Queens, Fresh Meadows'</li>\n",
       "\t\t<li>'Queens, Glendale'</li>\n",
       "\t\t<li>'Queens, Hollis'</li>\n",
       "\t\t<li>'Queens, Holliswood'</li>\n",
       "\t\t<li>'Queens, Howard Beach'</li>\n",
       "\t\t<li>'Queens, Jackson Heights'</li>\n",
       "\t\t<li>'Queens, Jamaica'</li>\n",
       "\t\t<li>'Queens, Jamaica Estates'</li>\n",
       "\t\t<li>'Queens, Jamaica Hills'</li>\n",
       "\t\t<li>'Queens, Kew Gardens'</li>\n",
       "\t\t<li>'Queens, Kew Gardens Hills'</li>\n",
       "\t\t<li>'Queens, Laurelton'</li>\n",
       "\t\t<li>'Queens, Little Neck'</li>\n",
       "\t\t<li>'Queens, Long Island City'</li>\n",
       "\t\t<li>'Queens, Maspeth'</li>\n",
       "\t\t<li>'Queens, Middle Village'</li>\n",
       "\t\t<li>'Queens, Neponsit'</li>\n",
       "\t\t<li>'Queens, Ozone Park'</li>\n",
       "\t\t<li>'Queens, Queens Village'</li>\n",
       "\t\t<li>'Queens, Rego Park'</li>\n",
       "\t\t<li>'Queens, Richmond Hill'</li>\n",
       "\t\t<li>'Queens, Ridgewood'</li>\n",
       "\t\t<li>'Queens, Rockaway Beach'</li>\n",
       "\t\t<li>'Queens, Rosedale'</li>\n",
       "\t\t<li>'Queens, South Ozone Park'</li>\n",
       "\t\t<li>'Queens, Springfield Gardens'</li>\n",
       "\t\t<li>'Queens, St. Albans'</li>\n",
       "\t\t<li>'Queens, Sunnyside'</li>\n",
       "\t\t<li>'Queens, Whitestone'</li>\n",
       "\t\t<li>'Queens, Woodhaven'</li>\n",
       "\t\t<li>'Queens, Woodside'</li>\n",
       "\t\t<li>'Staten Island, Arden Heights'</li>\n",
       "\t\t<li>'Staten Island, Arrochar'</li>\n",
       "\t\t<li>'Staten Island, Bay Terrace, Staten Island'</li>\n",
       "\t\t<li>'Staten Island, Bull\\'s Head'</li>\n",
       "\t\t<li>'Staten Island, Castleton Corners'</li>\n",
       "\t\t<li>'Staten Island, Clifton'</li>\n",
       "\t\t<li>'Staten Island, Concord'</li>\n",
       "\t\t<li>'Staten Island, Dongan Hills'</li>\n",
       "\t\t<li>'Staten Island, Eltingville'</li>\n",
       "\t\t<li>'Staten Island, Emerson Hill'</li>\n",
       "\t\t<li>'Staten Island, Graniteville'</li>\n",
       "\t\t<li>'Staten Island, Grant City'</li>\n",
       "\t\t<li>'Staten Island, Great Kills'</li>\n",
       "\t\t<li>'Staten Island, Grymes Hill'</li>\n",
       "\t\t<li>'Staten Island, Howland Hook'</li>\n",
       "\t\t<li>'Staten Island, Huguenot'</li>\n",
       "\t\t<li>'Staten Island, Lighthouse Hill'</li>\n",
       "\t\t<li>'Staten Island, Mariners Harbor'</li>\n",
       "\t\t<li>'Staten Island, Midland Beach'</li>\n",
       "\t\t<li>'Staten Island, New Brighton'</li>\n",
       "\t\t<li>'Staten Island, New Dorp Beach'</li>\n",
       "\t\t<li>'Staten Island, New Springville'</li>\n",
       "\t\t<li>'Staten Island, Oakwood'</li>\n",
       "\t\t<li>'Staten Island, Port Richmond'</li>\n",
       "\t\t<li>'Staten Island, Prince\\'s Bay'</li>\n",
       "\t\t<li>'Staten Island, Randall Manor'</li>\n",
       "\t\t<li>'Staten Island, Richmondtown'</li>\n",
       "\t\t<li>'Staten Island, Rosebank'</li>\n",
       "\t\t<li>'Staten Island, Rossville'</li>\n",
       "\t\t<li>'Staten Island, Shore Acres'</li>\n",
       "\t\t<li>'Staten Island, Silver Lake'</li>\n",
       "\t\t<li>'Staten Island, South Beach'</li>\n",
       "\t\t<li>'Staten Island, St. George'</li>\n",
       "\t\t<li>'Staten Island, Stapleton'</li>\n",
       "\t\t<li>'Staten Island, Todt Hill'</li>\n",
       "\t\t<li>'Staten Island, Tompkinsville'</li>\n",
       "\t\t<li>'Staten Island, Tottenville'</li>\n",
       "\t\t<li>'Staten Island, West Brighton'</li>\n",
       "\t\t<li>'Staten Island, Willowbrook'</li>\n",
       "\t</ol>\n",
       "</details>"
      ],
      "text/latex": [
       "\\begin{enumerate*}\n",
       "\\item Manhattan, Midtown\n",
       "\\item Brooklyn, Clinton Hill\n",
       "\\item Manhattan, Murray Hill\n",
       "\\item Manhattan, Hell's Kitchen\n",
       "\\item Manhattan, Chinatown\n",
       "\\end{enumerate*}\n",
       "\n",
       "\\emph{Levels}: \\begin{enumerate*}\n",
       "\\item 'Bronx, Allerton'\n",
       "\\item 'Bronx, Baychester'\n",
       "\\item 'Bronx, Belmont'\n",
       "\\item 'Bronx, Bronxdale'\n",
       "\\item 'Bronx, Castle Hill'\n",
       "\\item 'Bronx, City Island'\n",
       "\\item 'Bronx, Claremont Village'\n",
       "\\item 'Bronx, Clason Point'\n",
       "\\item 'Bronx, Co-op City'\n",
       "\\item 'Bronx, Concourse'\n",
       "\\item 'Bronx, Concourse Village'\n",
       "\\item 'Bronx, East Morrisania'\n",
       "\\item 'Bronx, Eastchester'\n",
       "\\item 'Bronx, Edenwald'\n",
       "\\item 'Bronx, Fieldston'\n",
       "\\item 'Bronx, Fordham'\n",
       "\\item 'Bronx, Highbridge'\n",
       "\\item 'Bronx, Hunts Point'\n",
       "\\item 'Bronx, Kingsbridge'\n",
       "\\item 'Bronx, Longwood'\n",
       "\\item 'Bronx, Melrose'\n",
       "\\item 'Bronx, Morris Heights'\n",
       "\\item 'Bronx, Morris Park'\n",
       "\\item 'Bronx, Morrisania'\n",
       "\\item 'Bronx, Mott Haven'\n",
       "\\item 'Bronx, Mount Eden'\n",
       "\\item 'Bronx, Mount Hope'\n",
       "\\item 'Bronx, North Riverdale'\n",
       "\\item 'Bronx, Norwood'\n",
       "\\item 'Bronx, Olinville'\n",
       "\\item 'Bronx, Parkchester'\n",
       "\\item 'Bronx, Pelham Bay'\n",
       "\\item 'Bronx, Pelham Gardens'\n",
       "\\item 'Bronx, Port Morris'\n",
       "\\item 'Bronx, Riverdale'\n",
       "\\item 'Bronx, Schuylerville'\n",
       "\\item 'Bronx, Soundview'\n",
       "\\item 'Bronx, Spuyten Duyvil'\n",
       "\\item 'Bronx, Throgs Neck'\n",
       "\\item 'Bronx, Tremont'\n",
       "\\item 'Bronx, Unionport'\n",
       "\\item 'Bronx, University Heights'\n",
       "\\item 'Bronx, Van Nest'\n",
       "\\item 'Bronx, Wakefield'\n",
       "\\item 'Bronx, West Farms'\n",
       "\\item 'Bronx, Westchester Square'\n",
       "\\item 'Bronx, Williamsbridge'\n",
       "\\item 'Bronx, Woodlawn'\n",
       "\\item 'Brooklyn, Bath Beach'\n",
       "\\item 'Brooklyn, Bay Ridge'\n",
       "\\item 'Brooklyn, Bedford-Stuyvesant'\n",
       "\\item 'Brooklyn, Bensonhurst'\n",
       "\\item 'Brooklyn, Bergen Beach'\n",
       "\\item 'Brooklyn, Boerum Hill'\n",
       "\\item 'Brooklyn, Borough Park'\n",
       "\\item 'Brooklyn, Brighton Beach'\n",
       "\\item 'Brooklyn, Brooklyn Heights'\n",
       "\\item 'Brooklyn, Brownsville'\n",
       "\\item 'Brooklyn, Bushwick'\n",
       "\\item 'Brooklyn, Canarsie'\n",
       "\\item 'Brooklyn, Carroll Gardens'\n",
       "\\item 'Brooklyn, Clinton Hill'\n",
       "\\item 'Brooklyn, Cobble Hill'\n",
       "\\item 'Brooklyn, Columbia St'\n",
       "\\item 'Brooklyn, Coney Island'\n",
       "\\item 'Brooklyn, Crown Heights'\n",
       "\\item 'Brooklyn, Cypress Hills'\n",
       "\\item 'Brooklyn, Downtown Brooklyn'\n",
       "\\item 'Brooklyn, DUMBO'\n",
       "\\item 'Brooklyn, Dyker Heights'\n",
       "\\item 'Brooklyn, East Flatbush'\n",
       "\\item 'Brooklyn, East New York'\n",
       "\\item 'Brooklyn, Flatbush'\n",
       "\\item 'Brooklyn, Flatlands'\n",
       "\\item 'Brooklyn, Fort Greene'\n",
       "\\item 'Brooklyn, Fort Hamilton'\n",
       "\\item 'Brooklyn, Gowanus'\n",
       "\\item 'Brooklyn, Gravesend'\n",
       "\\item 'Brooklyn, Greenpoint'\n",
       "\\item 'Brooklyn, Kensington'\n",
       "\\item 'Brooklyn, Manhattan Beach'\n",
       "\\item 'Brooklyn, Midwood'\n",
       "\\item 'Brooklyn, Mill Basin'\n",
       "\\item 'Brooklyn, Navy Yard'\n",
       "\\item 'Brooklyn, Park Slope'\n",
       "\\item 'Brooklyn, Prospect-Lefferts Gardens'\n",
       "\\item 'Brooklyn, Prospect Heights'\n",
       "\\item 'Brooklyn, Red Hook'\n",
       "\\item 'Brooklyn, Sea Gate'\n",
       "\\item 'Brooklyn, Sheepshead Bay'\n",
       "\\item 'Brooklyn, South Slope'\n",
       "\\item 'Brooklyn, Sunset Park'\n",
       "\\item 'Brooklyn, Vinegar Hill'\n",
       "\\item 'Brooklyn, Williamsburg'\n",
       "\\item 'Brooklyn, Windsor Terrace'\n",
       "\\item 'Manhattan, Battery Park City'\n",
       "\\item 'Manhattan, Chelsea'\n",
       "\\item 'Manhattan, Chinatown'\n",
       "\\item 'Manhattan, Civic Center'\n",
       "\\item 'Manhattan, East Harlem'\n",
       "\\item 'Manhattan, East Village'\n",
       "\\item 'Manhattan, Financial District'\n",
       "\\item 'Manhattan, Flatiron District'\n",
       "\\item 'Manhattan, Gramercy'\n",
       "\\item 'Manhattan, Greenwich Village'\n",
       "\\item 'Manhattan, Harlem'\n",
       "\\item 'Manhattan, Hell\\textbackslash{}'s Kitchen'\n",
       "\\item 'Manhattan, Inwood'\n",
       "\\item 'Manhattan, Kips Bay'\n",
       "\\item 'Manhattan, Little Italy'\n",
       "\\item 'Manhattan, Lower East Side'\n",
       "\\item 'Manhattan, Marble Hill'\n",
       "\\item 'Manhattan, Midtown'\n",
       "\\item 'Manhattan, Morningside Heights'\n",
       "\\item 'Manhattan, Murray Hill'\n",
       "\\item 'Manhattan, NoHo'\n",
       "\\item 'Manhattan, Nolita'\n",
       "\\item 'Manhattan, Roosevelt Island'\n",
       "\\item 'Manhattan, SoHo'\n",
       "\\item 'Manhattan, Stuyvesant Town'\n",
       "\\item 'Manhattan, Theater District'\n",
       "\\item 'Manhattan, Tribeca'\n",
       "\\item 'Manhattan, Two Bridges'\n",
       "\\item 'Manhattan, Upper East Side'\n",
       "\\item 'Manhattan, Upper West Side'\n",
       "\\item 'Manhattan, Washington Heights'\n",
       "\\item 'Manhattan, West Village'\n",
       "\\item 'Queens, Arverne'\n",
       "\\item 'Queens, Astoria'\n",
       "\\item 'Queens, Bay Terrace'\n",
       "\\item 'Queens, Bayside'\n",
       "\\item 'Queens, Bayswater'\n",
       "\\item 'Queens, Belle Harbor'\n",
       "\\item 'Queens, Bellerose'\n",
       "\\item 'Queens, Breezy Point'\n",
       "\\item 'Queens, Briarwood'\n",
       "\\item 'Queens, Cambria Heights'\n",
       "\\item 'Queens, College Point'\n",
       "\\item 'Queens, Corona'\n",
       "\\item 'Queens, Ditmars Steinway'\n",
       "\\item 'Queens, Douglaston'\n",
       "\\item 'Queens, East Elmhurst'\n",
       "\\item 'Queens, Edgemere'\n",
       "\\item 'Queens, Elmhurst'\n",
       "\\item 'Queens, Far Rockaway'\n",
       "\\item 'Queens, Flushing'\n",
       "\\item 'Queens, Forest Hills'\n",
       "\\item 'Queens, Fresh Meadows'\n",
       "\\item 'Queens, Glendale'\n",
       "\\item 'Queens, Hollis'\n",
       "\\item 'Queens, Holliswood'\n",
       "\\item 'Queens, Howard Beach'\n",
       "\\item 'Queens, Jackson Heights'\n",
       "\\item 'Queens, Jamaica'\n",
       "\\item 'Queens, Jamaica Estates'\n",
       "\\item 'Queens, Jamaica Hills'\n",
       "\\item 'Queens, Kew Gardens'\n",
       "\\item 'Queens, Kew Gardens Hills'\n",
       "\\item 'Queens, Laurelton'\n",
       "\\item 'Queens, Little Neck'\n",
       "\\item 'Queens, Long Island City'\n",
       "\\item 'Queens, Maspeth'\n",
       "\\item 'Queens, Middle Village'\n",
       "\\item 'Queens, Neponsit'\n",
       "\\item 'Queens, Ozone Park'\n",
       "\\item 'Queens, Queens Village'\n",
       "\\item 'Queens, Rego Park'\n",
       "\\item 'Queens, Richmond Hill'\n",
       "\\item 'Queens, Ridgewood'\n",
       "\\item 'Queens, Rockaway Beach'\n",
       "\\item 'Queens, Rosedale'\n",
       "\\item 'Queens, South Ozone Park'\n",
       "\\item 'Queens, Springfield Gardens'\n",
       "\\item 'Queens, St. Albans'\n",
       "\\item 'Queens, Sunnyside'\n",
       "\\item 'Queens, Whitestone'\n",
       "\\item 'Queens, Woodhaven'\n",
       "\\item 'Queens, Woodside'\n",
       "\\item 'Staten Island, Arden Heights'\n",
       "\\item 'Staten Island, Arrochar'\n",
       "\\item 'Staten Island, Bay Terrace, Staten Island'\n",
       "\\item 'Staten Island, Bull\\textbackslash{}'s Head'\n",
       "\\item 'Staten Island, Castleton Corners'\n",
       "\\item 'Staten Island, Clifton'\n",
       "\\item 'Staten Island, Concord'\n",
       "\\item 'Staten Island, Dongan Hills'\n",
       "\\item 'Staten Island, Eltingville'\n",
       "\\item 'Staten Island, Emerson Hill'\n",
       "\\item 'Staten Island, Graniteville'\n",
       "\\item 'Staten Island, Grant City'\n",
       "\\item 'Staten Island, Great Kills'\n",
       "\\item 'Staten Island, Grymes Hill'\n",
       "\\item 'Staten Island, Howland Hook'\n",
       "\\item 'Staten Island, Huguenot'\n",
       "\\item 'Staten Island, Lighthouse Hill'\n",
       "\\item 'Staten Island, Mariners Harbor'\n",
       "\\item 'Staten Island, Midland Beach'\n",
       "\\item 'Staten Island, New Brighton'\n",
       "\\item 'Staten Island, New Dorp Beach'\n",
       "\\item 'Staten Island, New Springville'\n",
       "\\item 'Staten Island, Oakwood'\n",
       "\\item 'Staten Island, Port Richmond'\n",
       "\\item 'Staten Island, Prince\\textbackslash{}'s Bay'\n",
       "\\item 'Staten Island, Randall Manor'\n",
       "\\item 'Staten Island, Richmondtown'\n",
       "\\item 'Staten Island, Rosebank'\n",
       "\\item 'Staten Island, Rossville'\n",
       "\\item 'Staten Island, Shore Acres'\n",
       "\\item 'Staten Island, Silver Lake'\n",
       "\\item 'Staten Island, South Beach'\n",
       "\\item 'Staten Island, St. George'\n",
       "\\item 'Staten Island, Stapleton'\n",
       "\\item 'Staten Island, Todt Hill'\n",
       "\\item 'Staten Island, Tompkinsville'\n",
       "\\item 'Staten Island, Tottenville'\n",
       "\\item 'Staten Island, West Brighton'\n",
       "\\item 'Staten Island, Willowbrook'\n",
       "\\end{enumerate*}\n"
      ],
      "text/markdown": [
       "1. Manhattan, Midtown\n",
       "2. Brooklyn, Clinton Hill\n",
       "3. Manhattan, Murray Hill\n",
       "4. Manhattan, Hell's Kitchen\n",
       "5. Manhattan, Chinatown\n",
       "\n",
       "\n",
       "\n",
       "**Levels**: 1. 'Bronx, Allerton'\n",
       "2. 'Bronx, Baychester'\n",
       "3. 'Bronx, Belmont'\n",
       "4. 'Bronx, Bronxdale'\n",
       "5. 'Bronx, Castle Hill'\n",
       "6. 'Bronx, City Island'\n",
       "7. 'Bronx, Claremont Village'\n",
       "8. 'Bronx, Clason Point'\n",
       "9. 'Bronx, Co-op City'\n",
       "10. 'Bronx, Concourse'\n",
       "11. 'Bronx, Concourse Village'\n",
       "12. 'Bronx, East Morrisania'\n",
       "13. 'Bronx, Eastchester'\n",
       "14. 'Bronx, Edenwald'\n",
       "15. 'Bronx, Fieldston'\n",
       "16. 'Bronx, Fordham'\n",
       "17. 'Bronx, Highbridge'\n",
       "18. 'Bronx, Hunts Point'\n",
       "19. 'Bronx, Kingsbridge'\n",
       "20. 'Bronx, Longwood'\n",
       "21. 'Bronx, Melrose'\n",
       "22. 'Bronx, Morris Heights'\n",
       "23. 'Bronx, Morris Park'\n",
       "24. 'Bronx, Morrisania'\n",
       "25. 'Bronx, Mott Haven'\n",
       "26. 'Bronx, Mount Eden'\n",
       "27. 'Bronx, Mount Hope'\n",
       "28. 'Bronx, North Riverdale'\n",
       "29. 'Bronx, Norwood'\n",
       "30. 'Bronx, Olinville'\n",
       "31. 'Bronx, Parkchester'\n",
       "32. 'Bronx, Pelham Bay'\n",
       "33. 'Bronx, Pelham Gardens'\n",
       "34. 'Bronx, Port Morris'\n",
       "35. 'Bronx, Riverdale'\n",
       "36. 'Bronx, Schuylerville'\n",
       "37. 'Bronx, Soundview'\n",
       "38. 'Bronx, Spuyten Duyvil'\n",
       "39. 'Bronx, Throgs Neck'\n",
       "40. 'Bronx, Tremont'\n",
       "41. 'Bronx, Unionport'\n",
       "42. 'Bronx, University Heights'\n",
       "43. 'Bronx, Van Nest'\n",
       "44. 'Bronx, Wakefield'\n",
       "45. 'Bronx, West Farms'\n",
       "46. 'Bronx, Westchester Square'\n",
       "47. 'Bronx, Williamsbridge'\n",
       "48. 'Bronx, Woodlawn'\n",
       "49. 'Brooklyn, Bath Beach'\n",
       "50. 'Brooklyn, Bay Ridge'\n",
       "51. 'Brooklyn, Bedford-Stuyvesant'\n",
       "52. 'Brooklyn, Bensonhurst'\n",
       "53. 'Brooklyn, Bergen Beach'\n",
       "54. 'Brooklyn, Boerum Hill'\n",
       "55. 'Brooklyn, Borough Park'\n",
       "56. 'Brooklyn, Brighton Beach'\n",
       "57. 'Brooklyn, Brooklyn Heights'\n",
       "58. 'Brooklyn, Brownsville'\n",
       "59. 'Brooklyn, Bushwick'\n",
       "60. 'Brooklyn, Canarsie'\n",
       "61. 'Brooklyn, Carroll Gardens'\n",
       "62. 'Brooklyn, Clinton Hill'\n",
       "63. 'Brooklyn, Cobble Hill'\n",
       "64. 'Brooklyn, Columbia St'\n",
       "65. 'Brooklyn, Coney Island'\n",
       "66. 'Brooklyn, Crown Heights'\n",
       "67. 'Brooklyn, Cypress Hills'\n",
       "68. 'Brooklyn, Downtown Brooklyn'\n",
       "69. 'Brooklyn, DUMBO'\n",
       "70. 'Brooklyn, Dyker Heights'\n",
       "71. 'Brooklyn, East Flatbush'\n",
       "72. 'Brooklyn, East New York'\n",
       "73. 'Brooklyn, Flatbush'\n",
       "74. 'Brooklyn, Flatlands'\n",
       "75. 'Brooklyn, Fort Greene'\n",
       "76. 'Brooklyn, Fort Hamilton'\n",
       "77. 'Brooklyn, Gowanus'\n",
       "78. 'Brooklyn, Gravesend'\n",
       "79. 'Brooklyn, Greenpoint'\n",
       "80. 'Brooklyn, Kensington'\n",
       "81. 'Brooklyn, Manhattan Beach'\n",
       "82. 'Brooklyn, Midwood'\n",
       "83. 'Brooklyn, Mill Basin'\n",
       "84. 'Brooklyn, Navy Yard'\n",
       "85. 'Brooklyn, Park Slope'\n",
       "86. 'Brooklyn, Prospect-Lefferts Gardens'\n",
       "87. 'Brooklyn, Prospect Heights'\n",
       "88. 'Brooklyn, Red Hook'\n",
       "89. 'Brooklyn, Sea Gate'\n",
       "90. 'Brooklyn, Sheepshead Bay'\n",
       "91. 'Brooklyn, South Slope'\n",
       "92. 'Brooklyn, Sunset Park'\n",
       "93. 'Brooklyn, Vinegar Hill'\n",
       "94. 'Brooklyn, Williamsburg'\n",
       "95. 'Brooklyn, Windsor Terrace'\n",
       "96. 'Manhattan, Battery Park City'\n",
       "97. 'Manhattan, Chelsea'\n",
       "98. 'Manhattan, Chinatown'\n",
       "99. 'Manhattan, Civic Center'\n",
       "100. 'Manhattan, East Harlem'\n",
       "101. 'Manhattan, East Village'\n",
       "102. 'Manhattan, Financial District'\n",
       "103. 'Manhattan, Flatiron District'\n",
       "104. 'Manhattan, Gramercy'\n",
       "105. 'Manhattan, Greenwich Village'\n",
       "106. 'Manhattan, Harlem'\n",
       "107. 'Manhattan, Hell\\'s Kitchen'\n",
       "108. 'Manhattan, Inwood'\n",
       "109. 'Manhattan, Kips Bay'\n",
       "110. 'Manhattan, Little Italy'\n",
       "111. 'Manhattan, Lower East Side'\n",
       "112. 'Manhattan, Marble Hill'\n",
       "113. 'Manhattan, Midtown'\n",
       "114. 'Manhattan, Morningside Heights'\n",
       "115. 'Manhattan, Murray Hill'\n",
       "116. 'Manhattan, NoHo'\n",
       "117. 'Manhattan, Nolita'\n",
       "118. 'Manhattan, Roosevelt Island'\n",
       "119. 'Manhattan, SoHo'\n",
       "120. 'Manhattan, Stuyvesant Town'\n",
       "121. 'Manhattan, Theater District'\n",
       "122. 'Manhattan, Tribeca'\n",
       "123. 'Manhattan, Two Bridges'\n",
       "124. 'Manhattan, Upper East Side'\n",
       "125. 'Manhattan, Upper West Side'\n",
       "126. 'Manhattan, Washington Heights'\n",
       "127. 'Manhattan, West Village'\n",
       "128. 'Queens, Arverne'\n",
       "129. 'Queens, Astoria'\n",
       "130. 'Queens, Bay Terrace'\n",
       "131. 'Queens, Bayside'\n",
       "132. 'Queens, Bayswater'\n",
       "133. 'Queens, Belle Harbor'\n",
       "134. 'Queens, Bellerose'\n",
       "135. 'Queens, Breezy Point'\n",
       "136. 'Queens, Briarwood'\n",
       "137. 'Queens, Cambria Heights'\n",
       "138. 'Queens, College Point'\n",
       "139. 'Queens, Corona'\n",
       "140. 'Queens, Ditmars Steinway'\n",
       "141. 'Queens, Douglaston'\n",
       "142. 'Queens, East Elmhurst'\n",
       "143. 'Queens, Edgemere'\n",
       "144. 'Queens, Elmhurst'\n",
       "145. 'Queens, Far Rockaway'\n",
       "146. 'Queens, Flushing'\n",
       "147. 'Queens, Forest Hills'\n",
       "148. 'Queens, Fresh Meadows'\n",
       "149. 'Queens, Glendale'\n",
       "150. 'Queens, Hollis'\n",
       "151. 'Queens, Holliswood'\n",
       "152. 'Queens, Howard Beach'\n",
       "153. 'Queens, Jackson Heights'\n",
       "154. 'Queens, Jamaica'\n",
       "155. 'Queens, Jamaica Estates'\n",
       "156. 'Queens, Jamaica Hills'\n",
       "157. 'Queens, Kew Gardens'\n",
       "158. 'Queens, Kew Gardens Hills'\n",
       "159. 'Queens, Laurelton'\n",
       "160. 'Queens, Little Neck'\n",
       "161. 'Queens, Long Island City'\n",
       "162. 'Queens, Maspeth'\n",
       "163. 'Queens, Middle Village'\n",
       "164. 'Queens, Neponsit'\n",
       "165. 'Queens, Ozone Park'\n",
       "166. 'Queens, Queens Village'\n",
       "167. 'Queens, Rego Park'\n",
       "168. 'Queens, Richmond Hill'\n",
       "169. 'Queens, Ridgewood'\n",
       "170. 'Queens, Rockaway Beach'\n",
       "171. 'Queens, Rosedale'\n",
       "172. 'Queens, South Ozone Park'\n",
       "173. 'Queens, Springfield Gardens'\n",
       "174. 'Queens, St. Albans'\n",
       "175. 'Queens, Sunnyside'\n",
       "176. 'Queens, Whitestone'\n",
       "177. 'Queens, Woodhaven'\n",
       "178. 'Queens, Woodside'\n",
       "179. 'Staten Island, Arden Heights'\n",
       "180. 'Staten Island, Arrochar'\n",
       "181. 'Staten Island, Bay Terrace, Staten Island'\n",
       "182. 'Staten Island, Bull\\'s Head'\n",
       "183. 'Staten Island, Castleton Corners'\n",
       "184. 'Staten Island, Clifton'\n",
       "185. 'Staten Island, Concord'\n",
       "186. 'Staten Island, Dongan Hills'\n",
       "187. 'Staten Island, Eltingville'\n",
       "188. 'Staten Island, Emerson Hill'\n",
       "189. 'Staten Island, Graniteville'\n",
       "190. 'Staten Island, Grant City'\n",
       "191. 'Staten Island, Great Kills'\n",
       "192. 'Staten Island, Grymes Hill'\n",
       "193. 'Staten Island, Howland Hook'\n",
       "194. 'Staten Island, Huguenot'\n",
       "195. 'Staten Island, Lighthouse Hill'\n",
       "196. 'Staten Island, Mariners Harbor'\n",
       "197. 'Staten Island, Midland Beach'\n",
       "198. 'Staten Island, New Brighton'\n",
       "199. 'Staten Island, New Dorp Beach'\n",
       "200. 'Staten Island, New Springville'\n",
       "201. 'Staten Island, Oakwood'\n",
       "202. 'Staten Island, Port Richmond'\n",
       "203. 'Staten Island, Prince\\'s Bay'\n",
       "204. 'Staten Island, Randall Manor'\n",
       "205. 'Staten Island, Richmondtown'\n",
       "206. 'Staten Island, Rosebank'\n",
       "207. 'Staten Island, Rossville'\n",
       "208. 'Staten Island, Shore Acres'\n",
       "209. 'Staten Island, Silver Lake'\n",
       "210. 'Staten Island, South Beach'\n",
       "211. 'Staten Island, St. George'\n",
       "212. 'Staten Island, Stapleton'\n",
       "213. 'Staten Island, Todt Hill'\n",
       "214. 'Staten Island, Tompkinsville'\n",
       "215. 'Staten Island, Tottenville'\n",
       "216. 'Staten Island, West Brighton'\n",
       "217. 'Staten Island, Willowbrook'\n",
       "\n",
       "\n"
      ],
      "text/plain": [
       "[1] Manhattan, Midtown        Brooklyn, Clinton Hill   \n",
       "[3] Manhattan, Murray Hill    Manhattan, Hell's Kitchen\n",
       "[5] Manhattan, Chinatown     \n",
       "217 Levels: Bronx, Allerton Bronx, Baychester ... Staten Island, Willowbrook"
      ]
     },
     "metadata": {},
     "output_type": "display_data"
    }
   ],
   "source": [
    "# Analyzing listing prices by NYC Borough \n",
    "head(airbnb_merged_clean$nbhood_full,5)"
   ]
  },
  {
   "cell_type": "code",
   "execution_count": 147,
   "id": "9e942601",
   "metadata": {},
   "outputs": [],
   "source": [
    "airbnb_merged_clean$nbhood_full <- as.character(airbnb_merged_clean$nbhood_full)"
   ]
  },
  {
   "cell_type": "code",
   "execution_count": 148,
   "id": "530327a3",
   "metadata": {},
   "outputs": [
    {
     "name": "stderr",
     "output_type": "stream",
     "text": [
      "Warning message:\n",
      "\"Expected 2 pieces. Additional pieces discarded in 1 rows [21958].\"\n"
     ]
    }
   ],
   "source": [
    "airbnb_merged_clean <- airbnb_merged_clean %>%\n",
    "separate(nbhood_full,into=c(\"borough\",\"resto\"),sep=\",\")"
   ]
  },
  {
   "cell_type": "code",
   "execution_count": 149,
   "id": "43b32781",
   "metadata": {},
   "outputs": [
    {
     "name": "stdout",
     "output_type": "stream",
     "text": [
      "Classes 'data.table' and 'data.frame':\t25184 obs. of  9 variables:\n",
      " $ listing_id : int  2595 3831 5099 5178 5238 5295 5441 5803 6021 6848 ...\n",
      " $ price      : num  225 89 200 79 150 135 85 89 85 140 ...\n",
      " $ currency   : chr  \"dollars\" \"dollars\" \"dollars\" \"dollars\" ...\n",
      " $ borough    : chr  \"Manhattan\" \"Brooklyn\" \"Manhattan\" \"Manhattan\" ...\n",
      " $ resto      : chr  \" Midtown\" \" Clinton Hill\" \" Murray Hill\" \" Hell's Kitchen\" ...\n",
      " $ description: chr  \"Skylit Midtown Castle\" \"Cozy Entire Floor of Brownstone\" \"Large Cozy 1 BR Apartment In Midtown East\" \"Large Furnished Room Near B'way\" ...\n",
      " $ room_type  : Factor w/ 3 levels \"entire home/apt\",..: 1 1 1 2 1 1 2 2 2 1 ...\n",
      " $ host_name  : Factor w/ 7361 levels \"'Cil\",\"-TheQueensCornerLot\",..: 3117 4045 1264 6272 795 3917 3530 3870 1333 282 ...\n",
      " $ last_review: Date, format: \"2019-05-21\" \"2019-07-05\" ...\n"
     ]
    }
   ],
   "source": [
    "str(airbnb_merged_clean)"
   ]
  },
  {
   "cell_type": "code",
   "execution_count": 151,
   "id": "dc5e5d63",
   "metadata": {},
   "outputs": [
    {
     "data": {
      "text/html": [
       "<table>\n",
       "<thead><tr><th scope=col>borough</th><th scope=col>count</th><th scope=col>avg.price</th><th scope=col>min.price</th><th scope=col>max.price</th></tr></thead>\n",
       "<tbody>\n",
       "\t<tr><td>Bronx        </td><td>  696        </td><td> 79.24713    </td><td>20           </td><td> 670         </td></tr>\n",
       "\t<tr><td>Brooklyn     </td><td>10451        </td><td>122.02182    </td><td>10           </td><td>7500         </td></tr>\n",
       "\t<tr><td>Manhattan    </td><td>10315        </td><td>184.04430    </td><td>10           </td><td>5100         </td></tr>\n",
       "\t<tr><td>Queens       </td><td> 3455        </td><td> 92.82634    </td><td>10           </td><td>2600         </td></tr>\n",
       "\t<tr><td>Staten Island</td><td>  267        </td><td> 86.04494    </td><td>13           </td><td> 300         </td></tr>\n",
       "</tbody>\n",
       "</table>\n"
      ],
      "text/latex": [
       "\\begin{tabular}{r|lllll}\n",
       " borough & count & avg.price & min.price & max.price\\\\\n",
       "\\hline\n",
       "\t Bronx         &   696         &  79.24713     & 20            &  670         \\\\\n",
       "\t Brooklyn      & 10451         & 122.02182     & 10            & 7500         \\\\\n",
       "\t Manhattan     & 10315         & 184.04430     & 10            & 5100         \\\\\n",
       "\t Queens        &  3455         &  92.82634     & 10            & 2600         \\\\\n",
       "\t Staten Island &   267         &  86.04494     & 13            &  300         \\\\\n",
       "\\end{tabular}\n"
      ],
      "text/markdown": [
       "\n",
       "| borough | count | avg.price | min.price | max.price |\n",
       "|---|---|---|---|---|\n",
       "| Bronx         |   696         |  79.24713     | 20            |  670          |\n",
       "| Brooklyn      | 10451         | 122.02182     | 10            | 7500          |\n",
       "| Manhattan     | 10315         | 184.04430     | 10            | 5100          |\n",
       "| Queens        |  3455         |  92.82634     | 10            | 2600          |\n",
       "| Staten Island |   267         |  86.04494     | 13            |  300          |\n",
       "\n"
      ],
      "text/plain": [
       "  borough       count avg.price min.price max.price\n",
       "1 Bronx           696  79.24713 20         670     \n",
       "2 Brooklyn      10451 122.02182 10        7500     \n",
       "3 Manhattan     10315 184.04430 10        5100     \n",
       "4 Queens         3455  92.82634 10        2600     \n",
       "5 Staten Island   267  86.04494 13         300     "
      ]
     },
     "metadata": {},
     "output_type": "display_data"
    }
   ],
   "source": [
    "airbnb_merged_clean %>% \n",
    "group_by(borough) %>%\n",
    "summarize(count=n(),avg.price=mean(price),min.price = min(price),max.price=max(price))"
   ]
  },
  {
   "cell_type": "markdown",
   "id": "50f16acc",
   "metadata": {},
   "source": [
    "###### The boroughs  with lowest prices are : Brooklyn , Manhattan , Queens while the one with most expensive airbnb listing is Brooklyn."
   ]
  },
  {
   "cell_type": "code",
   "execution_count": 157,
   "id": "c1bb0f01",
   "metadata": {},
   "outputs": [],
   "source": [
    "airbnb_merged_clean <- airbnb_merged_clean %>%\n",
    "mutate(avg.price = mean(price))"
   ]
  },
  {
   "cell_type": "markdown",
   "id": "c960703d",
   "metadata": {},
   "source": [
    "#### 7. Analyzing Room type frequency by NYC Borough"
   ]
  },
  {
   "cell_type": "code",
   "execution_count": 165,
   "id": "1b81f124",
   "metadata": {},
   "outputs": [
    {
     "data": {
      "image/png": "[encoded data removed]",
      "text/plain": [
       "plot without title"
      ]
     },
     "metadata": {
      "image/png": {
       "height": 420,
       "width": 420
      }
     },
     "output_type": "display_data"
    }
   ],
   "source": [
    "ggplot(airbnb_merged_clean,aes(x=borough,y=avg.price)) + \n",
    "geom_col(color=\"dodgerblue4\") + facet_wrap(~room_type, ncol=1, scales=\"free\")"
   ]
  },
  {
   "cell_type": "markdown",
   "id": "3d1c1739",
   "metadata": {},
   "source": [
    "#### 8. Analyzing The top 10 and bottom 10 listings by price."
   ]
  },
  {
   "cell_type": "code",
   "execution_count": 187,
   "id": "d49e1649",
   "metadata": {},
   "outputs": [],
   "source": [
    "airbnb_merged_clean$avg.price <- NULL"
   ]
  },
  {
   "cell_type": "code",
   "execution_count": 193,
   "id": "258f5a56",
   "metadata": {},
   "outputs": [],
   "source": [
    "# property type by average price \n",
    "byprice <-  airbnb_merged_clean %>% \n",
    "select(description,price)%>%\n",
    "group_by(description) %>% \n",
    "arrange(desc(price))"
   ]
  },
  {
   "cell_type": "code",
   "execution_count": 195,
   "id": "16a29574",
   "metadata": {},
   "outputs": [],
   "source": [
    "top10 <- byprice[-1:10,]"
   ]
  },
  {
   "cell_type": "code",
   "execution_count": 196,
   "id": "bcd03fe6",
   "metadata": {},
   "outputs": [],
   "source": [
    "top10 <- top10 %>% \n",
    "mutate(type=\"Top 10\")"
   ]
  },
  {
   "cell_type": "code",
   "execution_count": 197,
   "id": "ad2fe22d",
   "metadata": {},
   "outputs": [],
   "source": [
    "byprice2 <-  airbnb_merged_clean %>% \n",
    "select(description,price)%>%\n",
    "group_by(description) %>% \n",
    "arrange((price))"
   ]
  },
  {
   "cell_type": "code",
   "execution_count": 199,
   "id": "936b261c",
   "metadata": {},
   "outputs": [],
   "source": [
    "bottom10 <- byprice2[1:10,] "
   ]
  },
  {
   "cell_type": "code",
   "execution_count": 200,
   "id": "3c8127d5",
   "metadata": {},
   "outputs": [],
   "source": [
    "bottom10 <- bottom10 %>% \n",
    "mutate(type = \"Bottom 10\")"
   ]
  },
  {
   "cell_type": "code",
   "execution_count": 201,
   "id": "a695070c",
   "metadata": {},
   "outputs": [],
   "source": [
    "airbnb_price_rank <- top10 %>% \n",
    "bind_rows(bottom10)"
   ]
  },
  {
   "cell_type": "code",
   "execution_count": 209,
   "id": "3da6c763",
   "metadata": {},
   "outputs": [
    {
     "data": {
      "text/html": [
       "<table>\n",
       "<thead><tr><th scope=col>description</th><th scope=col>price</th><th scope=col>type</th></tr></thead>\n",
       "<tbody>\n",
       "\t<tr><td>IT'S SIMPLY CONVENIENT!                           </td><td>10                                                </td><td>Bottom 10                                         </td></tr>\n",
       "\t<tr><td>Spacious 2-bedroom Apt in Heart of Greenpoint     </td><td>10                                                </td><td>Bottom 10                                         </td></tr>\n",
       "\t<tr><td>Cozy feel at home studio                          </td><td>10                                                </td><td>Bottom 10                                         </td></tr>\n",
       "\t<tr><td>Voted #1 Airbnb In NYC                            </td><td>10                                                </td><td>Bottom 10                                         </td></tr>\n",
       "\t<tr><td>Charming, bright and brand new Bed-Stuy home      </td><td>10                                                </td><td>Bottom 10                                         </td></tr>\n",
       "\t<tr><td>Beautiful room in Bushwick                        </td><td>10                                                </td><td>Bottom 10                                         </td></tr>\n",
       "\t<tr><td>Spacious and Modern 2 Bedroom Apartment           </td><td>11                                                </td><td>Bottom 10                                         </td></tr>\n",
       "\t<tr><td>Private Bedroom in West Village/Chelsea           </td><td>12                                                </td><td>Bottom 10                                         </td></tr>\n",
       "\t<tr><td>Happy Home 3                                      </td><td>13                                                </td><td>Bottom 10                                         </td></tr>\n",
       "\t<tr><td>trip NYC - your Couch - clean, cheap, close to all</td><td>15                                                </td><td>Bottom 10                                         </td></tr>\n",
       "</tbody>\n",
       "</table>\n"
      ],
      "text/latex": [
       "\\begin{tabular}{r|lll}\n",
       " description & price & type\\\\\n",
       "\\hline\n",
       "\t IT'S SIMPLY CONVENIENT!                            & 10                                                 & Bottom 10                                         \\\\\n",
       "\t Spacious 2-bedroom Apt in Heart of Greenpoint      & 10                                                 & Bottom 10                                         \\\\\n",
       "\t Cozy feel at home studio                           & 10                                                 & Bottom 10                                         \\\\\n",
       "\t Voted \\#1 Airbnb In NYC                             & 10                                                   & Bottom 10                                           \\\\\n",
       "\t Charming, bright and brand new Bed-Stuy home       & 10                                                 & Bottom 10                                         \\\\\n",
       "\t Beautiful room in Bushwick                         & 10                                                 & Bottom 10                                         \\\\\n",
       "\t Spacious and Modern 2 Bedroom Apartment            & 11                                                 & Bottom 10                                         \\\\\n",
       "\t Private Bedroom in West Village/Chelsea            & 12                                                 & Bottom 10                                         \\\\\n",
       "\t Happy Home 3                                       & 13                                                 & Bottom 10                                         \\\\\n",
       "\t trip NYC - your Couch - clean, cheap, close to all & 15                                                 & Bottom 10                                         \\\\\n",
       "\\end{tabular}\n"
      ],
      "text/markdown": [
       "\n",
       "| description | price | type |\n",
       "|---|---|---|\n",
       "| IT'S SIMPLY CONVENIENT!                            | 10                                                 | Bottom 10                                          |\n",
       "| Spacious 2-bedroom Apt in Heart of Greenpoint      | 10                                                 | Bottom 10                                          |\n",
       "| Cozy feel at home studio                           | 10                                                 | Bottom 10                                          |\n",
       "| Voted #1 Airbnb In NYC                             | 10                                                 | Bottom 10                                          |\n",
       "| Charming, bright and brand new Bed-Stuy home       | 10                                                 | Bottom 10                                          |\n",
       "| Beautiful room in Bushwick                         | 10                                                 | Bottom 10                                          |\n",
       "| Spacious and Modern 2 Bedroom Apartment            | 11                                                 | Bottom 10                                          |\n",
       "| Private Bedroom in West Village/Chelsea            | 12                                                 | Bottom 10                                          |\n",
       "| Happy Home 3                                       | 13                                                 | Bottom 10                                          |\n",
       "| trip NYC - your Couch - clean, cheap, close to all | 15                                                 | Bottom 10                                          |\n",
       "\n"
      ],
      "text/plain": [
       "   description                                        price type     \n",
       "1  IT'S SIMPLY CONVENIENT!                            10    Bottom 10\n",
       "2  Spacious 2-bedroom Apt in Heart of Greenpoint      10    Bottom 10\n",
       "3  Cozy feel at home studio                           10    Bottom 10\n",
       "4  Voted #1 Airbnb In NYC                             10    Bottom 10\n",
       "5  Charming, bright and brand new Bed-Stuy home       10    Bottom 10\n",
       "6  Beautiful room in Bushwick                         10    Bottom 10\n",
       "7  Spacious and Modern 2 Bedroom Apartment            11    Bottom 10\n",
       "8  Private Bedroom in West Village/Chelsea            12    Bottom 10\n",
       "9  Happy Home 3                                       13    Bottom 10\n",
       "10 trip NYC - your Couch - clean, cheap, close to all 15    Bottom 10"
      ]
     },
     "metadata": {},
     "output_type": "display_data"
    }
   ],
   "source": [
    "bottom10"
   ]
  },
  {
   "cell_type": "code",
   "execution_count": 211,
   "id": "f6c12502",
   "metadata": {},
   "outputs": [
    {
     "data": {
      "image/png": "[encoded data removed]",
      "text/plain": [
       "plot without title"
      ]
     },
     "metadata": {
      "image/png": {
       "height": 420,
       "width": 420
      }
     },
     "output_type": "display_data"
    }
   ],
   "source": [
    "airbnb_price_rank %>% \n",
    "  ggplot(aes(x = price, \n",
    "             y = description %>% reorder(price),\n",
    "             color = type)\n",
    "         ) + \n",
    "  geom_point() +\n",
    "  geom_segment(aes(xend = 80, yend = description)) +\n",
    "  labs(x = \"Average Review Scores Rating\",\n",
    "       y = NULL,\n",
    "       color = NULL,\n",
    "       title = \"Top and Bottom 10 Property by Average Price\",\n",
    "       subtitle = \"For property type with min. 50 different listings\") "
   ]
  },
  {
   "cell_type": "markdown",
   "id": "7bfe3d71",
   "metadata": {},
   "source": [
    "#### 9. Analyzing the price range by Borough : classifying the listings by price range into : Budegt , Average , Expensive and Extravagant.\n",
    "\n",
    "If the listing's price is below or equal to 69 is categorized as : Budget , if it is between 70 and 175 , it is then categorized as Average , between 176 and 350 is categorized as Expensive. Any listing with a price higher than 350 is Extravagant."
   ]
  },
  {
   "cell_type": "code",
   "execution_count": 216,
   "id": "0c33ba9a",
   "metadata": {},
   "outputs": [],
   "source": [
    "# price range by borough \n",
    "price_ranges <- airbnb_merged_clean %>% \n",
    "mutate(price_range = case_when (\n",
    "    price <= 69 ~ \"Budget\",\n",
    "    price >= 70 & price <= 175 ~ \"Average\", \n",
    "    price >= 176 & price <= 350 ~ \"Expensive\", \n",
    "    price > 350 ~ \"Extravagant\"))"
   ]
  },
  {
   "cell_type": "code",
   "execution_count": 224,
   "id": "1418d53f",
   "metadata": {},
   "outputs": [
    {
     "name": "stderr",
     "output_type": "stream",
     "text": [
      "`summarise()` has grouped output by 'borough'. You can override using the `.groups` argument.\n",
      "\n"
     ]
    }
   ],
   "source": [
    "# count per price range \n",
    "price_ranges <- price_ranges %>% \n",
    "group_by(borough,price_range)%>% \n",
    "summarize(count_range=n())"
   ]
  },
  {
   "cell_type": "code",
   "execution_count": 228,
   "id": "1773c893",
   "metadata": {},
   "outputs": [
    {
     "name": "stderr",
     "output_type": "stream",
     "text": [
      "Warning message:\n",
      "\"Ignoring unknown parameters: stat\"\n"
     ]
    },
    {
     "data": {
      "image/png": "[encoded data removed]",
      "text/plain": [
       "plot without title"
      ]
     },
     "metadata": {
      "image/png": {
       "height": 420,
       "width": 420
      }
     },
     "output_type": "display_data"
    }
   ],
   "source": [
    "ggplot(price_ranges,aes(x=borough,y=count_range)) + \n",
    "geom_col(stat=\"identity\",color=\"dodgerblue4\",fill=\"blue\") + facet_wrap(~price_range, scales=\"free\")"
   ]
  },
  {
   "cell_type": "markdown",
   "id": "328511d8",
   "metadata": {},
   "source": [
    "##### The NYC Borough with the most listings within the average price range are in Brooklyn and Manhattan , while the NYC borough with the most Expensive and Extravagant listing are also in Manhattan and Brooklyn. Therefore we can conclude that Brooklyn and Manhattan have a wide variety of options within different price ranges."
   ]
  }
 ],
 "metadata": {
  "kernelspec": {
   "display_name": "R",
   "language": "R",
   "name": "ir"
  },
  "language_info": {
   "codemirror_mode": "r",
   "file_extension": ".r",
   "mimetype": "text/x-r-source",
   "name": "R",
   "pygments_lexer": "r",
   "version": "3.6.1"
  }
 },
 "nbformat": 4,
 "nbformat_minor": 5
}
